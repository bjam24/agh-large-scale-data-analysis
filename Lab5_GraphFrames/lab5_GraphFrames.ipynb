{
 "cells": [
  {
   "cell_type": "markdown",
   "metadata": {},
   "source": [
    "# ADZD Lab5 - GraphFrames\n",
    "**Author: Bartłomiej Jamiołkowski**"
   ]
  },
  {
   "cell_type": "markdown",
   "metadata": {},
   "source": [
    "## Libraries"
   ]
  },
  {
   "cell_type": "code",
   "execution_count": 1,
   "metadata": {
    "ExecuteTime": {
     "end_time": "2023-11-23T22:24:47.380028Z",
     "start_time": "2023-11-23T22:24:45.489084Z"
    },
    "collapsed": false,
    "jupyter": {
     "outputs_hidden": false
    }
   },
   "outputs": [
    {
     "name": "stdout",
     "output_type": "stream",
     "text": [
      "Welcome to\n",
      "      ____              __\n",
      "     / __/__  ___ _____/ /__\n",
      "    _\\ \\/ _ \\/ _ `/ __/  '_/\n",
      "   /__ / .__/\\_,_/_/ /_/\\_\\   version 3.5.0\n",
      "      /_/\n",
      "\n",
      "Using Python version 3.11.6 (main, Oct  3 2023 10:40:35)\n",
      "Spark context Web UI available at http://0630f9d3d4cf:4040\n",
      "Spark context available as 'sc' (master = local[*], app id = local-1733774902171).\n",
      "SparkSession available as 'spark'.\n"
     ]
    }
   ],
   "source": [
    "from pyspark.sql import DataFrame\n",
    "from pyspark.sql.types import IntegerType\n",
    "from graphframes import graphframe\n",
    "from graphframes.lib import Pregel\n",
    "from pyspark.sql.functions import col, udf, when, coalesce, sum\n",
    "from graphframes import GraphFrame\n",
    "from pyspark.shell import spark\n",
    "from tqdm import tqdm\n",
    "import matplotlib.pyplot as plt\n",
    "import numpy as np\n",
    "import pandas as pd\n",
    "import random"
   ]
  },
  {
   "cell_type": "markdown",
   "metadata": {
    "collapsed": false,
    "jupyter": {
     "outputs_hidden": false
    }
   },
   "source": [
    "## Exercise 1\n",
    "Load the Facebook graph, edges from the file musae_facebook_edges.csv and the attributes page_name and page_type from the file `musae_facebook_target.csv. Count the number of edges and vertices."
   ]
  },
  {
   "cell_type": "code",
   "execution_count": 2,
   "metadata": {},
   "outputs": [],
   "source": [
    "edges_df = spark.read.csv('./facebook_large/musae_facebook_edges.csv', header = True, inferSchema = True).toDF('src', 'dst')"
   ]
  },
  {
   "cell_type": "code",
   "execution_count": 3,
   "metadata": {},
   "outputs": [
    {
     "data": {
      "text/html": [
       "<div>\n",
       "<style scoped>\n",
       "    .dataframe tbody tr th:only-of-type {\n",
       "        vertical-align: middle;\n",
       "    }\n",
       "\n",
       "    .dataframe tbody tr th {\n",
       "        vertical-align: top;\n",
       "    }\n",
       "\n",
       "    .dataframe thead th {\n",
       "        text-align: right;\n",
       "    }\n",
       "</style>\n",
       "<table border=\"1\" class=\"dataframe\">\n",
       "  <thead>\n",
       "    <tr style=\"text-align: right;\">\n",
       "      <th></th>\n",
       "      <th>src</th>\n",
       "      <th>dst</th>\n",
       "    </tr>\n",
       "  </thead>\n",
       "  <tbody>\n",
       "    <tr>\n",
       "      <th>0</th>\n",
       "      <td>0</td>\n",
       "      <td>18427</td>\n",
       "    </tr>\n",
       "    <tr>\n",
       "      <th>1</th>\n",
       "      <td>1</td>\n",
       "      <td>21708</td>\n",
       "    </tr>\n",
       "    <tr>\n",
       "      <th>2</th>\n",
       "      <td>1</td>\n",
       "      <td>22208</td>\n",
       "    </tr>\n",
       "    <tr>\n",
       "      <th>3</th>\n",
       "      <td>1</td>\n",
       "      <td>22171</td>\n",
       "    </tr>\n",
       "    <tr>\n",
       "      <th>4</th>\n",
       "      <td>1</td>\n",
       "      <td>6829</td>\n",
       "    </tr>\n",
       "  </tbody>\n",
       "</table>\n",
       "</div>"
      ],
      "text/plain": [
       "   src    dst\n",
       "0    0  18427\n",
       "1    1  21708\n",
       "2    1  22208\n",
       "3    1  22171\n",
       "4    1   6829"
      ]
     },
     "execution_count": 3,
     "metadata": {},
     "output_type": "execute_result"
    }
   ],
   "source": [
    "edges_df.toPandas().head()"
   ]
  },
  {
   "cell_type": "code",
   "execution_count": 4,
   "metadata": {},
   "outputs": [],
   "source": [
    "vertices_df = spark.read.csv('./facebook_large/musae_facebook_target.csv', header = True, inferSchema = True)"
   ]
  },
  {
   "cell_type": "code",
   "execution_count": 5,
   "metadata": {},
   "outputs": [
    {
     "data": {
      "text/html": [
       "<div>\n",
       "<style scoped>\n",
       "    .dataframe tbody tr th:only-of-type {\n",
       "        vertical-align: middle;\n",
       "    }\n",
       "\n",
       "    .dataframe tbody tr th {\n",
       "        vertical-align: top;\n",
       "    }\n",
       "\n",
       "    .dataframe thead th {\n",
       "        text-align: right;\n",
       "    }\n",
       "</style>\n",
       "<table border=\"1\" class=\"dataframe\">\n",
       "  <thead>\n",
       "    <tr style=\"text-align: right;\">\n",
       "      <th></th>\n",
       "      <th>id</th>\n",
       "      <th>facebook_id</th>\n",
       "      <th>page_name</th>\n",
       "      <th>page_type</th>\n",
       "    </tr>\n",
       "  </thead>\n",
       "  <tbody>\n",
       "    <tr>\n",
       "      <th>0</th>\n",
       "      <td>0</td>\n",
       "      <td>145647315578475</td>\n",
       "      <td>The Voice of China 中国好声音</td>\n",
       "      <td>tvshow</td>\n",
       "    </tr>\n",
       "    <tr>\n",
       "      <th>1</th>\n",
       "      <td>1</td>\n",
       "      <td>191483281412</td>\n",
       "      <td>U.S. Consulate General Mumbai</td>\n",
       "      <td>government</td>\n",
       "    </tr>\n",
       "    <tr>\n",
       "      <th>2</th>\n",
       "      <td>2</td>\n",
       "      <td>144761358898518</td>\n",
       "      <td>ESET</td>\n",
       "      <td>company</td>\n",
       "    </tr>\n",
       "    <tr>\n",
       "      <th>3</th>\n",
       "      <td>3</td>\n",
       "      <td>568700043198473</td>\n",
       "      <td>Consulate General of Switzerland in Montreal</td>\n",
       "      <td>government</td>\n",
       "    </tr>\n",
       "    <tr>\n",
       "      <th>4</th>\n",
       "      <td>4</td>\n",
       "      <td>1408935539376139</td>\n",
       "      <td>Mark Bailey MP - Labor for Miller</td>\n",
       "      <td>politician</td>\n",
       "    </tr>\n",
       "  </tbody>\n",
       "</table>\n",
       "</div>"
      ],
      "text/plain": [
       "   id       facebook_id                                     page_name  \\\n",
       "0   0   145647315578475                      The Voice of China 中国好声音   \n",
       "1   1      191483281412                 U.S. Consulate General Mumbai   \n",
       "2   2   144761358898518                                          ESET   \n",
       "3   3   568700043198473  Consulate General of Switzerland in Montreal   \n",
       "4   4  1408935539376139             Mark Bailey MP - Labor for Miller   \n",
       "\n",
       "    page_type  \n",
       "0      tvshow  \n",
       "1  government  \n",
       "2     company  \n",
       "3  government  \n",
       "4  politician  "
      ]
     },
     "execution_count": 5,
     "metadata": {},
     "output_type": "execute_result"
    }
   ],
   "source": [
    "vertices_df.toPandas().head()"
   ]
  },
  {
   "cell_type": "code",
   "execution_count": 6,
   "metadata": {},
   "outputs": [
    {
     "name": "stdout",
     "output_type": "stream",
     "text": [
      "GraphFrame(v:[id: int, facebook_id: bigint ... 2 more fields], e:[src: int, dst: int])\n"
     ]
    }
   ],
   "source": [
    "facebook_graph = graphframe.GraphFrame(vertices_df, edges_df)\n",
    "print(facebook_graph)"
   ]
  },
  {
   "cell_type": "code",
   "execution_count": 7,
   "metadata": {},
   "outputs": [
    {
     "data": {
      "text/plain": [
       "171002"
      ]
     },
     "metadata": {},
     "output_type": "display_data"
    }
   ],
   "source": [
    "display(facebook_graph.edges.count()) "
   ]
  },
  {
   "cell_type": "code",
   "execution_count": 8,
   "metadata": {},
   "outputs": [
    {
     "data": {
      "text/plain": [
       "22470"
      ]
     },
     "metadata": {},
     "output_type": "display_data"
    }
   ],
   "source": [
    "display(facebook_graph.vertices.count())"
   ]
  },
  {
   "cell_type": "markdown",
   "metadata": {
    "collapsed": false,
    "jupyter": {
     "outputs_hidden": false
    }
   },
   "source": [
    "## Exercise 2\n",
    "Check if the graph is connected. Are the two subgraphs created for the page types 'governmental organizations' and 'television shows' also connected?"
   ]
  },
  {
   "cell_type": "code",
   "execution_count": 100,
   "metadata": {
    "collapsed": false,
    "jupyter": {
     "outputs_hidden": false
    }
   },
   "outputs": [
    {
     "data": {
      "text/html": [
       "<div>\n",
       "<style scoped>\n",
       "    .dataframe tbody tr th:only-of-type {\n",
       "        vertical-align: middle;\n",
       "    }\n",
       "\n",
       "    .dataframe tbody tr th {\n",
       "        vertical-align: top;\n",
       "    }\n",
       "\n",
       "    .dataframe thead th {\n",
       "        text-align: right;\n",
       "    }\n",
       "</style>\n",
       "<table border=\"1\" class=\"dataframe\">\n",
       "  <thead>\n",
       "    <tr style=\"text-align: right;\">\n",
       "      <th></th>\n",
       "      <th>id</th>\n",
       "      <th>facebook_id</th>\n",
       "      <th>page_name</th>\n",
       "      <th>page_type</th>\n",
       "      <th>component</th>\n",
       "    </tr>\n",
       "  </thead>\n",
       "  <tbody>\n",
       "    <tr>\n",
       "      <th>0</th>\n",
       "      <td>0</td>\n",
       "      <td>145647315578475</td>\n",
       "      <td>The Voice of China 中国好声音</td>\n",
       "      <td>tvshow</td>\n",
       "      <td>0</td>\n",
       "    </tr>\n",
       "    <tr>\n",
       "      <th>1</th>\n",
       "      <td>1</td>\n",
       "      <td>191483281412</td>\n",
       "      <td>U.S. Consulate General Mumbai</td>\n",
       "      <td>government</td>\n",
       "      <td>0</td>\n",
       "    </tr>\n",
       "    <tr>\n",
       "      <th>2</th>\n",
       "      <td>2</td>\n",
       "      <td>144761358898518</td>\n",
       "      <td>ESET</td>\n",
       "      <td>company</td>\n",
       "      <td>0</td>\n",
       "    </tr>\n",
       "    <tr>\n",
       "      <th>3</th>\n",
       "      <td>3</td>\n",
       "      <td>568700043198473</td>\n",
       "      <td>Consulate General of Switzerland in Montreal</td>\n",
       "      <td>government</td>\n",
       "      <td>0</td>\n",
       "    </tr>\n",
       "    <tr>\n",
       "      <th>4</th>\n",
       "      <td>4</td>\n",
       "      <td>1408935539376139</td>\n",
       "      <td>Mark Bailey MP - Labor for Miller</td>\n",
       "      <td>politician</td>\n",
       "      <td>0</td>\n",
       "    </tr>\n",
       "  </tbody>\n",
       "</table>\n",
       "</div>"
      ],
      "text/plain": [
       "   id       facebook_id                                     page_name  \\\n",
       "0   0   145647315578475                      The Voice of China 中国好声音   \n",
       "1   1      191483281412                 U.S. Consulate General Mumbai   \n",
       "2   2   144761358898518                                          ESET   \n",
       "3   3   568700043198473  Consulate General of Switzerland in Montreal   \n",
       "4   4  1408935539376139             Mark Bailey MP - Labor for Miller   \n",
       "\n",
       "    page_type  component  \n",
       "0      tvshow          0  \n",
       "1  government          0  \n",
       "2     company          0  \n",
       "3  government          0  \n",
       "4  politician          0  "
      ]
     },
     "execution_count": 100,
     "metadata": {},
     "output_type": "execute_result"
    }
   ],
   "source": [
    "spark.sparkContext.setCheckpointDir('/tmp/graphframes-example-connected-components')\n",
    "components = facebook_graph.connectedComponents()\n",
    "components.toPandas().head()"
   ]
  },
  {
   "cell_type": "code",
   "execution_count": 101,
   "metadata": {},
   "outputs": [
    {
     "data": {
      "text/plain": [
       "1"
      ]
     },
     "metadata": {},
     "output_type": "display_data"
    }
   ],
   "source": [
    "display(components.select('component').distinct().count())"
   ]
  },
  {
   "cell_type": "markdown",
   "metadata": {},
   "source": [
    "Obtained value indicates that the graph is connected."
   ]
  },
  {
   "cell_type": "code",
   "execution_count": 102,
   "metadata": {},
   "outputs": [],
   "source": [
    "gov_org_subgraph = facebook_graph.filterVertices(\"page_type = 'government'\").dropIsolatedVertices()"
   ]
  },
  {
   "cell_type": "code",
   "execution_count": 103,
   "metadata": {},
   "outputs": [
    {
     "data": {
      "text/html": [
       "<div>\n",
       "<style scoped>\n",
       "    .dataframe tbody tr th:only-of-type {\n",
       "        vertical-align: middle;\n",
       "    }\n",
       "\n",
       "    .dataframe tbody tr th {\n",
       "        vertical-align: top;\n",
       "    }\n",
       "\n",
       "    .dataframe thead th {\n",
       "        text-align: right;\n",
       "    }\n",
       "</style>\n",
       "<table border=\"1\" class=\"dataframe\">\n",
       "  <thead>\n",
       "    <tr style=\"text-align: right;\">\n",
       "      <th></th>\n",
       "      <th>id</th>\n",
       "      <th>facebook_id</th>\n",
       "      <th>page_name</th>\n",
       "      <th>page_type</th>\n",
       "    </tr>\n",
       "  </thead>\n",
       "  <tbody>\n",
       "    <tr>\n",
       "      <th>0</th>\n",
       "      <td>1</td>\n",
       "      <td>191483281412</td>\n",
       "      <td>U.S. Consulate General Mumbai</td>\n",
       "      <td>government</td>\n",
       "    </tr>\n",
       "    <tr>\n",
       "      <th>1</th>\n",
       "      <td>3</td>\n",
       "      <td>568700043198473</td>\n",
       "      <td>Consulate General of Switzerland in Montreal</td>\n",
       "      <td>government</td>\n",
       "    </tr>\n",
       "    <tr>\n",
       "      <th>2</th>\n",
       "      <td>8</td>\n",
       "      <td>544818128942324</td>\n",
       "      <td>T.C. Mezar-ı Şerif Başkonsolosluğu</td>\n",
       "      <td>government</td>\n",
       "    </tr>\n",
       "    <tr>\n",
       "      <th>3</th>\n",
       "      <td>9</td>\n",
       "      <td>285155655705</td>\n",
       "      <td>Army ROTC Fighting Saints Battalion</td>\n",
       "      <td>government</td>\n",
       "    </tr>\n",
       "    <tr>\n",
       "      <th>4</th>\n",
       "      <td>10</td>\n",
       "      <td>295294787190810</td>\n",
       "      <td>NASA Student Launch</td>\n",
       "      <td>government</td>\n",
       "    </tr>\n",
       "  </tbody>\n",
       "</table>\n",
       "</div>"
      ],
      "text/plain": [
       "   id      facebook_id                                     page_name  \\\n",
       "0   1     191483281412                 U.S. Consulate General Mumbai   \n",
       "1   3  568700043198473  Consulate General of Switzerland in Montreal   \n",
       "2   8  544818128942324            T.C. Mezar-ı Şerif Başkonsolosluğu   \n",
       "3   9     285155655705           Army ROTC Fighting Saints Battalion   \n",
       "4  10  295294787190810                           NASA Student Launch   \n",
       "\n",
       "    page_type  \n",
       "0  government  \n",
       "1  government  \n",
       "2  government  \n",
       "3  government  \n",
       "4  government  "
      ]
     },
     "execution_count": 103,
     "metadata": {},
     "output_type": "execute_result"
    }
   ],
   "source": [
    "gov_org_subgraph.vertices.toPandas().head()"
   ]
  },
  {
   "cell_type": "code",
   "execution_count": 104,
   "metadata": {},
   "outputs": [
    {
     "data": {
      "text/html": [
       "<div>\n",
       "<style scoped>\n",
       "    .dataframe tbody tr th:only-of-type {\n",
       "        vertical-align: middle;\n",
       "    }\n",
       "\n",
       "    .dataframe tbody tr th {\n",
       "        vertical-align: top;\n",
       "    }\n",
       "\n",
       "    .dataframe thead th {\n",
       "        text-align: right;\n",
       "    }\n",
       "</style>\n",
       "<table border=\"1\" class=\"dataframe\">\n",
       "  <thead>\n",
       "    <tr style=\"text-align: right;\">\n",
       "      <th></th>\n",
       "      <th>id</th>\n",
       "      <th>facebook_id</th>\n",
       "      <th>page_name</th>\n",
       "      <th>page_type</th>\n",
       "      <th>component</th>\n",
       "    </tr>\n",
       "  </thead>\n",
       "  <tbody>\n",
       "    <tr>\n",
       "      <th>0</th>\n",
       "      <td>1</td>\n",
       "      <td>191483281412</td>\n",
       "      <td>U.S. Consulate General Mumbai</td>\n",
       "      <td>government</td>\n",
       "      <td>1</td>\n",
       "    </tr>\n",
       "    <tr>\n",
       "      <th>1</th>\n",
       "      <td>3</td>\n",
       "      <td>568700043198473</td>\n",
       "      <td>Consulate General of Switzerland in Montreal</td>\n",
       "      <td>government</td>\n",
       "      <td>1</td>\n",
       "    </tr>\n",
       "    <tr>\n",
       "      <th>2</th>\n",
       "      <td>8</td>\n",
       "      <td>544818128942324</td>\n",
       "      <td>T.C. Mezar-ı Şerif Başkonsolosluğu</td>\n",
       "      <td>government</td>\n",
       "      <td>1</td>\n",
       "    </tr>\n",
       "    <tr>\n",
       "      <th>3</th>\n",
       "      <td>9</td>\n",
       "      <td>285155655705</td>\n",
       "      <td>Army ROTC Fighting Saints Battalion</td>\n",
       "      <td>government</td>\n",
       "      <td>1</td>\n",
       "    </tr>\n",
       "    <tr>\n",
       "      <th>4</th>\n",
       "      <td>10</td>\n",
       "      <td>295294787190810</td>\n",
       "      <td>NASA Student Launch</td>\n",
       "      <td>government</td>\n",
       "      <td>1</td>\n",
       "    </tr>\n",
       "  </tbody>\n",
       "</table>\n",
       "</div>"
      ],
      "text/plain": [
       "   id      facebook_id                                     page_name  \\\n",
       "0   1     191483281412                 U.S. Consulate General Mumbai   \n",
       "1   3  568700043198473  Consulate General of Switzerland in Montreal   \n",
       "2   8  544818128942324            T.C. Mezar-ı Şerif Başkonsolosluğu   \n",
       "3   9     285155655705           Army ROTC Fighting Saints Battalion   \n",
       "4  10  295294787190810                           NASA Student Launch   \n",
       "\n",
       "    page_type  component  \n",
       "0  government          1  \n",
       "1  government          1  \n",
       "2  government          1  \n",
       "3  government          1  \n",
       "4  government          1  "
      ]
     },
     "execution_count": 104,
     "metadata": {},
     "output_type": "execute_result"
    }
   ],
   "source": [
    "gov_org_components = gov_org_subgraph.connectedComponents()\n",
    "gov_org_components.toPandas().head()"
   ]
  },
  {
   "cell_type": "code",
   "execution_count": 105,
   "metadata": {},
   "outputs": [
    {
     "data": {
      "text/plain": [
       "5"
      ]
     },
     "metadata": {},
     "output_type": "display_data"
    }
   ],
   "source": [
    "display(gov_org_components.select('component').distinct().count())"
   ]
  },
  {
   "cell_type": "markdown",
   "metadata": {},
   "source": [
    "Obtained value differs from 1, so the subgraph created for page type 'governmental organizations' is not connected."
   ]
  },
  {
   "cell_type": "code",
   "execution_count": 106,
   "metadata": {},
   "outputs": [],
   "source": [
    "tv_shows_subgraph = facebook_graph.filterVertices(\"page_type = 'tvshow'\").dropIsolatedVertices()"
   ]
  },
  {
   "cell_type": "code",
   "execution_count": 107,
   "metadata": {},
   "outputs": [
    {
     "data": {
      "text/html": [
       "<div>\n",
       "<style scoped>\n",
       "    .dataframe tbody tr th:only-of-type {\n",
       "        vertical-align: middle;\n",
       "    }\n",
       "\n",
       "    .dataframe tbody tr th {\n",
       "        vertical-align: top;\n",
       "    }\n",
       "\n",
       "    .dataframe thead th {\n",
       "        text-align: right;\n",
       "    }\n",
       "</style>\n",
       "<table border=\"1\" class=\"dataframe\">\n",
       "  <thead>\n",
       "    <tr style=\"text-align: right;\">\n",
       "      <th></th>\n",
       "      <th>id</th>\n",
       "      <th>facebook_id</th>\n",
       "      <th>page_name</th>\n",
       "      <th>page_type</th>\n",
       "    </tr>\n",
       "  </thead>\n",
       "  <tbody>\n",
       "    <tr>\n",
       "      <th>0</th>\n",
       "      <td>0</td>\n",
       "      <td>145647315578475</td>\n",
       "      <td>The Voice of China 中国好声音</td>\n",
       "      <td>tvshow</td>\n",
       "    </tr>\n",
       "    <tr>\n",
       "      <th>1</th>\n",
       "      <td>27</td>\n",
       "      <td>220206968012871</td>\n",
       "      <td>Poppy Cat</td>\n",
       "      <td>tvshow</td>\n",
       "    </tr>\n",
       "    <tr>\n",
       "      <th>2</th>\n",
       "      <td>44</td>\n",
       "      <td>1507698529534072</td>\n",
       "      <td>APB FOX</td>\n",
       "      <td>tvshow</td>\n",
       "    </tr>\n",
       "    <tr>\n",
       "      <th>3</th>\n",
       "      <td>52</td>\n",
       "      <td>1388741348032650</td>\n",
       "      <td>식샤를합시다</td>\n",
       "      <td>tvshow</td>\n",
       "    </tr>\n",
       "    <tr>\n",
       "      <th>4</th>\n",
       "      <td>55</td>\n",
       "      <td>141018599260302</td>\n",
       "      <td>Abendschau</td>\n",
       "      <td>tvshow</td>\n",
       "    </tr>\n",
       "  </tbody>\n",
       "</table>\n",
       "</div>"
      ],
      "text/plain": [
       "   id       facebook_id                 page_name page_type\n",
       "0   0   145647315578475  The Voice of China 中国好声音    tvshow\n",
       "1  27   220206968012871                 Poppy Cat    tvshow\n",
       "2  44  1507698529534072                   APB FOX    tvshow\n",
       "3  52  1388741348032650                    식샤를합시다    tvshow\n",
       "4  55   141018599260302                Abendschau    tvshow"
      ]
     },
     "execution_count": 107,
     "metadata": {},
     "output_type": "execute_result"
    }
   ],
   "source": [
    "tv_shows_subgraph.vertices.toPandas().head()"
   ]
  },
  {
   "cell_type": "code",
   "execution_count": 108,
   "metadata": {},
   "outputs": [
    {
     "data": {
      "text/html": [
       "<div>\n",
       "<style scoped>\n",
       "    .dataframe tbody tr th:only-of-type {\n",
       "        vertical-align: middle;\n",
       "    }\n",
       "\n",
       "    .dataframe tbody tr th {\n",
       "        vertical-align: top;\n",
       "    }\n",
       "\n",
       "    .dataframe thead th {\n",
       "        text-align: right;\n",
       "    }\n",
       "</style>\n",
       "<table border=\"1\" class=\"dataframe\">\n",
       "  <thead>\n",
       "    <tr style=\"text-align: right;\">\n",
       "      <th></th>\n",
       "      <th>id</th>\n",
       "      <th>facebook_id</th>\n",
       "      <th>page_name</th>\n",
       "      <th>page_type</th>\n",
       "      <th>component</th>\n",
       "    </tr>\n",
       "  </thead>\n",
       "  <tbody>\n",
       "    <tr>\n",
       "      <th>0</th>\n",
       "      <td>0</td>\n",
       "      <td>145647315578475</td>\n",
       "      <td>The Voice of China 中国好声音</td>\n",
       "      <td>tvshow</td>\n",
       "      <td>0</td>\n",
       "    </tr>\n",
       "    <tr>\n",
       "      <th>1</th>\n",
       "      <td>27</td>\n",
       "      <td>220206968012871</td>\n",
       "      <td>Poppy Cat</td>\n",
       "      <td>tvshow</td>\n",
       "      <td>0</td>\n",
       "    </tr>\n",
       "    <tr>\n",
       "      <th>2</th>\n",
       "      <td>44</td>\n",
       "      <td>1507698529534072</td>\n",
       "      <td>APB FOX</td>\n",
       "      <td>tvshow</td>\n",
       "      <td>0</td>\n",
       "    </tr>\n",
       "    <tr>\n",
       "      <th>3</th>\n",
       "      <td>52</td>\n",
       "      <td>1388741348032650</td>\n",
       "      <td>식샤를합시다</td>\n",
       "      <td>tvshow</td>\n",
       "      <td>0</td>\n",
       "    </tr>\n",
       "    <tr>\n",
       "      <th>4</th>\n",
       "      <td>55</td>\n",
       "      <td>141018599260302</td>\n",
       "      <td>Abendschau</td>\n",
       "      <td>tvshow</td>\n",
       "      <td>0</td>\n",
       "    </tr>\n",
       "  </tbody>\n",
       "</table>\n",
       "</div>"
      ],
      "text/plain": [
       "   id       facebook_id                 page_name page_type  component\n",
       "0   0   145647315578475  The Voice of China 中国好声音    tvshow          0\n",
       "1  27   220206968012871                 Poppy Cat    tvshow          0\n",
       "2  44  1507698529534072                   APB FOX    tvshow          0\n",
       "3  52  1388741348032650                    식샤를합시다    tvshow          0\n",
       "4  55   141018599260302                Abendschau    tvshow          0"
      ]
     },
     "execution_count": 108,
     "metadata": {},
     "output_type": "execute_result"
    }
   ],
   "source": [
    "tv_shows_components = tv_shows_subgraph.connectedComponents()\n",
    "tv_shows_components.toPandas().head()"
   ]
  },
  {
   "cell_type": "code",
   "execution_count": 109,
   "metadata": {},
   "outputs": [
    {
     "data": {
      "text/plain": [
       "26"
      ]
     },
     "metadata": {},
     "output_type": "display_data"
    }
   ],
   "source": [
    "display(tv_shows_components.select('component').distinct().count())"
   ]
  },
  {
   "cell_type": "markdown",
   "metadata": {},
   "source": [
    "Obtained value differs from 1, so the subgraph created for page type 'television shows' is not connected."
   ]
  },
  {
   "cell_type": "markdown",
   "metadata": {
    "collapsed": false,
    "jupyter": {
     "outputs_hidden": false
    }
   },
   "source": [
    "## Exercise 3\n",
    "From the top 500 pages with the highest PageRank, find the 20 pages (list the page_name and page_type) with the fewest connections and the 20 with the most connections. Which page type was dominant in each of these categories? Plot a scatter plot showing the relationship between PageRank and the number of edges for the vertices."
   ]
  },
  {
   "cell_type": "code",
   "execution_count": 110,
   "metadata": {
    "collapsed": false,
    "jupyter": {
     "outputs_hidden": false
    }
   },
   "outputs": [],
   "source": [
    "pagerank_facebook = facebook_graph.pageRank(resetProbability = 0.15, maxIter = 10)"
   ]
  },
  {
   "cell_type": "code",
   "execution_count": 111,
   "metadata": {},
   "outputs": [
    {
     "data": {
      "text/html": [
       "<div>\n",
       "<style scoped>\n",
       "    .dataframe tbody tr th:only-of-type {\n",
       "        vertical-align: middle;\n",
       "    }\n",
       "\n",
       "    .dataframe tbody tr th {\n",
       "        vertical-align: top;\n",
       "    }\n",
       "\n",
       "    .dataframe thead th {\n",
       "        text-align: right;\n",
       "    }\n",
       "</style>\n",
       "<table border=\"1\" class=\"dataframe\">\n",
       "  <thead>\n",
       "    <tr style=\"text-align: right;\">\n",
       "      <th></th>\n",
       "      <th>id</th>\n",
       "      <th>facebook_id</th>\n",
       "      <th>page_name</th>\n",
       "      <th>page_type</th>\n",
       "      <th>pagerank</th>\n",
       "    </tr>\n",
       "  </thead>\n",
       "  <tbody>\n",
       "    <tr>\n",
       "      <th>0</th>\n",
       "      <td>20227</td>\n",
       "      <td>117455221614291</td>\n",
       "      <td>aspekte</td>\n",
       "      <td>tvshow</td>\n",
       "      <td>4.370687</td>\n",
       "    </tr>\n",
       "    <tr>\n",
       "      <th>1</th>\n",
       "      <td>15474</td>\n",
       "      <td>707703419357258</td>\n",
       "      <td>India in Switzerland (Embassy of India, Berne)</td>\n",
       "      <td>government</td>\n",
       "      <td>0.375980</td>\n",
       "    </tr>\n",
       "    <tr>\n",
       "      <th>2</th>\n",
       "      <td>18624</td>\n",
       "      <td>244266119255283</td>\n",
       "      <td>Famous</td>\n",
       "      <td>tvshow</td>\n",
       "      <td>1.492679</td>\n",
       "    </tr>\n",
       "    <tr>\n",
       "      <th>3</th>\n",
       "      <td>7608</td>\n",
       "      <td>142237522483061</td>\n",
       "      <td>HLN News Now</td>\n",
       "      <td>tvshow</td>\n",
       "      <td>0.513228</td>\n",
       "    </tr>\n",
       "    <tr>\n",
       "      <th>4</th>\n",
       "      <td>9166</td>\n",
       "      <td>110108698921</td>\n",
       "      <td>Austin HSEM</td>\n",
       "      <td>government</td>\n",
       "      <td>0.537848</td>\n",
       "    </tr>\n",
       "  </tbody>\n",
       "</table>\n",
       "</div>"
      ],
      "text/plain": [
       "      id      facebook_id                                       page_name  \\\n",
       "0  20227  117455221614291                                         aspekte   \n",
       "1  15474  707703419357258  India in Switzerland (Embassy of India, Berne)   \n",
       "2  18624  244266119255283                                          Famous   \n",
       "3   7608  142237522483061                                    HLN News Now   \n",
       "4   9166     110108698921                                     Austin HSEM   \n",
       "\n",
       "    page_type  pagerank  \n",
       "0      tvshow  4.370687  \n",
       "1  government  0.375980  \n",
       "2      tvshow  1.492679  \n",
       "3      tvshow  0.513228  \n",
       "4  government  0.537848  "
      ]
     },
     "execution_count": 111,
     "metadata": {},
     "output_type": "execute_result"
    }
   ],
   "source": [
    "pagerank_facebook.vertices.toPandas().head()"
   ]
  },
  {
   "cell_type": "code",
   "execution_count": 112,
   "metadata": {},
   "outputs": [
    {
     "data": {
      "text/html": [
       "<div>\n",
       "<style scoped>\n",
       "    .dataframe tbody tr th:only-of-type {\n",
       "        vertical-align: middle;\n",
       "    }\n",
       "\n",
       "    .dataframe tbody tr th {\n",
       "        vertical-align: top;\n",
       "    }\n",
       "\n",
       "    .dataframe thead th {\n",
       "        text-align: right;\n",
       "    }\n",
       "</style>\n",
       "<table border=\"1\" class=\"dataframe\">\n",
       "  <thead>\n",
       "    <tr style=\"text-align: right;\">\n",
       "      <th></th>\n",
       "      <th>src</th>\n",
       "      <th>dst</th>\n",
       "      <th>weight</th>\n",
       "    </tr>\n",
       "  </thead>\n",
       "  <tbody>\n",
       "    <tr>\n",
       "      <th>0</th>\n",
       "      <td>0</td>\n",
       "      <td>18427</td>\n",
       "      <td>1.000000</td>\n",
       "    </tr>\n",
       "    <tr>\n",
       "      <th>1</th>\n",
       "      <td>1</td>\n",
       "      <td>2812</td>\n",
       "      <td>0.029412</td>\n",
       "    </tr>\n",
       "    <tr>\n",
       "      <th>2</th>\n",
       "      <td>1</td>\n",
       "      <td>4987</td>\n",
       "      <td>0.029412</td>\n",
       "    </tr>\n",
       "    <tr>\n",
       "      <th>3</th>\n",
       "      <td>1</td>\n",
       "      <td>5228</td>\n",
       "      <td>0.029412</td>\n",
       "    </tr>\n",
       "    <tr>\n",
       "      <th>4</th>\n",
       "      <td>1</td>\n",
       "      <td>5307</td>\n",
       "      <td>0.029412</td>\n",
       "    </tr>\n",
       "  </tbody>\n",
       "</table>\n",
       "</div>"
      ],
      "text/plain": [
       "   src    dst    weight\n",
       "0    0  18427  1.000000\n",
       "1    1   2812  0.029412\n",
       "2    1   4987  0.029412\n",
       "3    1   5228  0.029412\n",
       "4    1   5307  0.029412"
      ]
     },
     "execution_count": 112,
     "metadata": {},
     "output_type": "execute_result"
    }
   ],
   "source": [
    "pagerank_facebook.edges.toPandas().head()"
   ]
  },
  {
   "cell_type": "code",
   "execution_count": 113,
   "metadata": {},
   "outputs": [],
   "source": [
    "pagerank_facebook_with_degrees = pagerank_facebook.vertices.join(facebook_graph.degrees, 'id')"
   ]
  },
  {
   "cell_type": "code",
   "execution_count": 114,
   "metadata": {},
   "outputs": [
    {
     "data": {
      "text/html": [
       "<div>\n",
       "<style scoped>\n",
       "    .dataframe tbody tr th:only-of-type {\n",
       "        vertical-align: middle;\n",
       "    }\n",
       "\n",
       "    .dataframe tbody tr th {\n",
       "        vertical-align: top;\n",
       "    }\n",
       "\n",
       "    .dataframe thead th {\n",
       "        text-align: right;\n",
       "    }\n",
       "</style>\n",
       "<table border=\"1\" class=\"dataframe\">\n",
       "  <thead>\n",
       "    <tr style=\"text-align: right;\">\n",
       "      <th></th>\n",
       "      <th>id</th>\n",
       "      <th>facebook_id</th>\n",
       "      <th>page_name</th>\n",
       "      <th>page_type</th>\n",
       "      <th>pagerank</th>\n",
       "      <th>degree</th>\n",
       "    </tr>\n",
       "  </thead>\n",
       "  <tbody>\n",
       "    <tr>\n",
       "      <th>0</th>\n",
       "      <td>20227</td>\n",
       "      <td>117455221614291</td>\n",
       "      <td>aspekte</td>\n",
       "      <td>tvshow</td>\n",
       "      <td>4.370687</td>\n",
       "      <td>10</td>\n",
       "    </tr>\n",
       "    <tr>\n",
       "      <th>1</th>\n",
       "      <td>15474</td>\n",
       "      <td>707703419357258</td>\n",
       "      <td>India in Switzerland (Embassy of India, Berne)</td>\n",
       "      <td>government</td>\n",
       "      <td>0.375980</td>\n",
       "      <td>1</td>\n",
       "    </tr>\n",
       "    <tr>\n",
       "      <th>2</th>\n",
       "      <td>18624</td>\n",
       "      <td>244266119255283</td>\n",
       "      <td>Famous</td>\n",
       "      <td>tvshow</td>\n",
       "      <td>1.492679</td>\n",
       "      <td>58</td>\n",
       "    </tr>\n",
       "    <tr>\n",
       "      <th>3</th>\n",
       "      <td>7608</td>\n",
       "      <td>142237522483061</td>\n",
       "      <td>HLN News Now</td>\n",
       "      <td>tvshow</td>\n",
       "      <td>0.513228</td>\n",
       "      <td>6</td>\n",
       "    </tr>\n",
       "    <tr>\n",
       "      <th>4</th>\n",
       "      <td>9166</td>\n",
       "      <td>110108698921</td>\n",
       "      <td>Austin HSEM</td>\n",
       "      <td>government</td>\n",
       "      <td>0.537848</td>\n",
       "      <td>10</td>\n",
       "    </tr>\n",
       "  </tbody>\n",
       "</table>\n",
       "</div>"
      ],
      "text/plain": [
       "      id      facebook_id                                       page_name  \\\n",
       "0  20227  117455221614291                                         aspekte   \n",
       "1  15474  707703419357258  India in Switzerland (Embassy of India, Berne)   \n",
       "2  18624  244266119255283                                          Famous   \n",
       "3   7608  142237522483061                                    HLN News Now   \n",
       "4   9166     110108698921                                     Austin HSEM   \n",
       "\n",
       "    page_type  pagerank  degree  \n",
       "0      tvshow  4.370687      10  \n",
       "1  government  0.375980       1  \n",
       "2      tvshow  1.492679      58  \n",
       "3      tvshow  0.513228       6  \n",
       "4  government  0.537848      10  "
      ]
     },
     "execution_count": 114,
     "metadata": {},
     "output_type": "execute_result"
    }
   ],
   "source": [
    "pagerank_facebook_with_degrees.toPandas().head()"
   ]
  },
  {
   "cell_type": "code",
   "execution_count": 115,
   "metadata": {},
   "outputs": [],
   "source": [
    "top_500_facebook_pages = pagerank_facebook_with_degrees.orderBy('pagerank', ascending = False).limit(500)"
   ]
  },
  {
   "cell_type": "code",
   "execution_count": 116,
   "metadata": {},
   "outputs": [
    {
     "data": {
      "text/html": [
       "<div>\n",
       "<style scoped>\n",
       "    .dataframe tbody tr th:only-of-type {\n",
       "        vertical-align: middle;\n",
       "    }\n",
       "\n",
       "    .dataframe tbody tr th {\n",
       "        vertical-align: top;\n",
       "    }\n",
       "\n",
       "    .dataframe thead th {\n",
       "        text-align: right;\n",
       "    }\n",
       "</style>\n",
       "<table border=\"1\" class=\"dataframe\">\n",
       "  <thead>\n",
       "    <tr style=\"text-align: right;\">\n",
       "      <th></th>\n",
       "      <th>page_name</th>\n",
       "      <th>page_type</th>\n",
       "    </tr>\n",
       "  </thead>\n",
       "  <tbody>\n",
       "    <tr>\n",
       "      <th>0</th>\n",
       "      <td>Kinder</td>\n",
       "      <td>company</td>\n",
       "    </tr>\n",
       "    <tr>\n",
       "      <th>1</th>\n",
       "      <td>adidas Women</td>\n",
       "      <td>company</td>\n",
       "    </tr>\n",
       "    <tr>\n",
       "      <th>2</th>\n",
       "      <td>spark7</td>\n",
       "      <td>company</td>\n",
       "    </tr>\n",
       "    <tr>\n",
       "      <th>3</th>\n",
       "      <td>Viessmann</td>\n",
       "      <td>company</td>\n",
       "    </tr>\n",
       "    <tr>\n",
       "      <th>4</th>\n",
       "      <td>Akris</td>\n",
       "      <td>company</td>\n",
       "    </tr>\n",
       "    <tr>\n",
       "      <th>5</th>\n",
       "      <td>Josi Nunes</td>\n",
       "      <td>politician</td>\n",
       "    </tr>\n",
       "    <tr>\n",
       "      <th>6</th>\n",
       "      <td>Jonathan Stickland</td>\n",
       "      <td>politician</td>\n",
       "    </tr>\n",
       "    <tr>\n",
       "      <th>7</th>\n",
       "      <td>Samsung Ukraine</td>\n",
       "      <td>company</td>\n",
       "    </tr>\n",
       "    <tr>\n",
       "      <th>8</th>\n",
       "      <td>Paiz Guatemala</td>\n",
       "      <td>company</td>\n",
       "    </tr>\n",
       "    <tr>\n",
       "      <th>9</th>\n",
       "      <td>Sour Jacks</td>\n",
       "      <td>company</td>\n",
       "    </tr>\n",
       "    <tr>\n",
       "      <th>10</th>\n",
       "      <td>Chupa Chups</td>\n",
       "      <td>company</td>\n",
       "    </tr>\n",
       "    <tr>\n",
       "      <th>11</th>\n",
       "      <td>ENGIE</td>\n",
       "      <td>company</td>\n",
       "    </tr>\n",
       "    <tr>\n",
       "      <th>12</th>\n",
       "      <td>Iwona Arent</td>\n",
       "      <td>politician</td>\n",
       "    </tr>\n",
       "    <tr>\n",
       "      <th>13</th>\n",
       "      <td>Disney Pixar</td>\n",
       "      <td>company</td>\n",
       "    </tr>\n",
       "    <tr>\n",
       "      <th>14</th>\n",
       "      <td>Yenda</td>\n",
       "      <td>company</td>\n",
       "    </tr>\n",
       "    <tr>\n",
       "      <th>15</th>\n",
       "      <td>Elisabeth Kaiser</td>\n",
       "      <td>politician</td>\n",
       "    </tr>\n",
       "    <tr>\n",
       "      <th>16</th>\n",
       "      <td>Jenny Willott</td>\n",
       "      <td>politician</td>\n",
       "    </tr>\n",
       "    <tr>\n",
       "      <th>17</th>\n",
       "      <td>FoodSaver</td>\n",
       "      <td>company</td>\n",
       "    </tr>\n",
       "    <tr>\n",
       "      <th>18</th>\n",
       "      <td>Borgia</td>\n",
       "      <td>tvshow</td>\n",
       "    </tr>\n",
       "    <tr>\n",
       "      <th>19</th>\n",
       "      <td>Ertuğrul Kürkçü</td>\n",
       "      <td>politician</td>\n",
       "    </tr>\n",
       "  </tbody>\n",
       "</table>\n",
       "</div>"
      ],
      "text/plain": [
       "             page_name   page_type\n",
       "0               Kinder     company\n",
       "1         adidas Women     company\n",
       "2               spark7     company\n",
       "3            Viessmann     company\n",
       "4                Akris     company\n",
       "5           Josi Nunes  politician\n",
       "6   Jonathan Stickland  politician\n",
       "7      Samsung Ukraine     company\n",
       "8       Paiz Guatemala     company\n",
       "9           Sour Jacks     company\n",
       "10         Chupa Chups     company\n",
       "11               ENGIE     company\n",
       "12         Iwona Arent  politician\n",
       "13        Disney Pixar     company\n",
       "14               Yenda     company\n",
       "15    Elisabeth Kaiser  politician\n",
       "16       Jenny Willott  politician\n",
       "17           FoodSaver     company\n",
       "18              Borgia      tvshow\n",
       "19     Ertuğrul Kürkçü  politician"
      ]
     },
     "metadata": {},
     "output_type": "display_data"
    }
   ],
   "source": [
    "top_20_least_connected_facebook_pages = top_500_facebook_pages.orderBy('degree', ascending = True).limit(20).select('page_name', 'page_type')\n",
    "display(top_20_least_connected_facebook_pages.toPandas())"
   ]
  },
  {
   "cell_type": "code",
   "execution_count": 117,
   "metadata": {},
   "outputs": [
    {
     "data": {
      "text/html": [
       "<div>\n",
       "<style scoped>\n",
       "    .dataframe tbody tr th:only-of-type {\n",
       "        vertical-align: middle;\n",
       "    }\n",
       "\n",
       "    .dataframe tbody tr th {\n",
       "        vertical-align: top;\n",
       "    }\n",
       "\n",
       "    .dataframe thead th {\n",
       "        text-align: right;\n",
       "    }\n",
       "</style>\n",
       "<table border=\"1\" class=\"dataframe\">\n",
       "  <thead>\n",
       "    <tr style=\"text-align: right;\">\n",
       "      <th></th>\n",
       "      <th>page_type</th>\n",
       "      <th>count</th>\n",
       "    </tr>\n",
       "  </thead>\n",
       "  <tbody>\n",
       "    <tr>\n",
       "      <th>0</th>\n",
       "      <td>company</td>\n",
       "      <td>13</td>\n",
       "    </tr>\n",
       "    <tr>\n",
       "      <th>1</th>\n",
       "      <td>politician</td>\n",
       "      <td>6</td>\n",
       "    </tr>\n",
       "    <tr>\n",
       "      <th>2</th>\n",
       "      <td>tvshow</td>\n",
       "      <td>1</td>\n",
       "    </tr>\n",
       "  </tbody>\n",
       "</table>\n",
       "</div>"
      ],
      "text/plain": [
       "    page_type  count\n",
       "0     company     13\n",
       "1  politician      6\n",
       "2      tvshow      1"
      ]
     },
     "metadata": {},
     "output_type": "display_data"
    }
   ],
   "source": [
    "display(top_20_least_connected_facebook_pages.groupBy('page_type').count().orderBy('count', ascending = False).toPandas())"
   ]
  },
  {
   "cell_type": "markdown",
   "metadata": {},
   "source": [
    "The 'company' page type was dominant in the 20 pages with the fewest connections."
   ]
  },
  {
   "cell_type": "code",
   "execution_count": 118,
   "metadata": {},
   "outputs": [
    {
     "data": {
      "text/html": [
       "<div>\n",
       "<style scoped>\n",
       "    .dataframe tbody tr th:only-of-type {\n",
       "        vertical-align: middle;\n",
       "    }\n",
       "\n",
       "    .dataframe tbody tr th {\n",
       "        vertical-align: top;\n",
       "    }\n",
       "\n",
       "    .dataframe thead th {\n",
       "        text-align: right;\n",
       "    }\n",
       "</style>\n",
       "<table border=\"1\" class=\"dataframe\">\n",
       "  <thead>\n",
       "    <tr style=\"text-align: right;\">\n",
       "      <th></th>\n",
       "      <th>page_name</th>\n",
       "      <th>page_type</th>\n",
       "    </tr>\n",
       "  </thead>\n",
       "  <tbody>\n",
       "    <tr>\n",
       "      <th>0</th>\n",
       "      <td>U.S. Army</td>\n",
       "      <td>government</td>\n",
       "    </tr>\n",
       "    <tr>\n",
       "      <th>1</th>\n",
       "      <td>The White House</td>\n",
       "      <td>government</td>\n",
       "    </tr>\n",
       "    <tr>\n",
       "      <th>2</th>\n",
       "      <td>The Obama White House</td>\n",
       "      <td>government</td>\n",
       "    </tr>\n",
       "    <tr>\n",
       "      <th>3</th>\n",
       "      <td>U.S. Army Chaplain Corps</td>\n",
       "      <td>government</td>\n",
       "    </tr>\n",
       "    <tr>\n",
       "      <th>4</th>\n",
       "      <td>U.S. Department of State</td>\n",
       "      <td>government</td>\n",
       "    </tr>\n",
       "    <tr>\n",
       "      <th>5</th>\n",
       "      <td>FEMA Federal Emergency Management Agency</td>\n",
       "      <td>government</td>\n",
       "    </tr>\n",
       "    <tr>\n",
       "      <th>6</th>\n",
       "      <td>European Parliament</td>\n",
       "      <td>government</td>\n",
       "    </tr>\n",
       "    <tr>\n",
       "      <th>7</th>\n",
       "      <td>United States Air Force</td>\n",
       "      <td>government</td>\n",
       "    </tr>\n",
       "    <tr>\n",
       "      <th>8</th>\n",
       "      <td>Los Angeles District, U.S. Army Corps of Engin...</td>\n",
       "      <td>government</td>\n",
       "    </tr>\n",
       "    <tr>\n",
       "      <th>9</th>\n",
       "      <td>Barack Obama</td>\n",
       "      <td>politician</td>\n",
       "    </tr>\n",
       "    <tr>\n",
       "      <th>10</th>\n",
       "      <td>U.S. Embassy Ottawa</td>\n",
       "      <td>government</td>\n",
       "    </tr>\n",
       "    <tr>\n",
       "      <th>11</th>\n",
       "      <td>European Commission</td>\n",
       "      <td>government</td>\n",
       "    </tr>\n",
       "    <tr>\n",
       "      <th>12</th>\n",
       "      <td>Manfred Weber</td>\n",
       "      <td>politician</td>\n",
       "    </tr>\n",
       "    <tr>\n",
       "      <th>13</th>\n",
       "      <td>Joachim Herrmann</td>\n",
       "      <td>politician</td>\n",
       "    </tr>\n",
       "    <tr>\n",
       "      <th>14</th>\n",
       "      <td>Army Sustainment</td>\n",
       "      <td>government</td>\n",
       "    </tr>\n",
       "    <tr>\n",
       "      <th>15</th>\n",
       "      <td>U.S. National Weather Service (NWS)</td>\n",
       "      <td>government</td>\n",
       "    </tr>\n",
       "    <tr>\n",
       "      <th>16</th>\n",
       "      <td>National Oceanic and Atmospheric Administratio...</td>\n",
       "      <td>government</td>\n",
       "    </tr>\n",
       "    <tr>\n",
       "      <th>17</th>\n",
       "      <td>CDC</td>\n",
       "      <td>government</td>\n",
       "    </tr>\n",
       "    <tr>\n",
       "      <th>18</th>\n",
       "      <td>U.S. Marine Corps</td>\n",
       "      <td>government</td>\n",
       "    </tr>\n",
       "    <tr>\n",
       "      <th>19</th>\n",
       "      <td>U.S. Army Europe</td>\n",
       "      <td>government</td>\n",
       "    </tr>\n",
       "  </tbody>\n",
       "</table>\n",
       "</div>"
      ],
      "text/plain": [
       "                                            page_name   page_type\n",
       "0                                           U.S. Army  government\n",
       "1                                     The White House  government\n",
       "2                               The Obama White House  government\n",
       "3                            U.S. Army Chaplain Corps  government\n",
       "4                            U.S. Department of State  government\n",
       "5            FEMA Federal Emergency Management Agency  government\n",
       "6                                 European Parliament  government\n",
       "7                             United States Air Force  government\n",
       "8   Los Angeles District, U.S. Army Corps of Engin...  government\n",
       "9                                        Barack Obama  politician\n",
       "10                                U.S. Embassy Ottawa  government\n",
       "11                                European Commission  government\n",
       "12                                      Manfred Weber  politician\n",
       "13                                   Joachim Herrmann  politician\n",
       "14                                   Army Sustainment  government\n",
       "15                U.S. National Weather Service (NWS)  government\n",
       "16  National Oceanic and Atmospheric Administratio...  government\n",
       "17                                                CDC  government\n",
       "18                                  U.S. Marine Corps  government\n",
       "19                                   U.S. Army Europe  government"
      ]
     },
     "metadata": {},
     "output_type": "display_data"
    }
   ],
   "source": [
    "top_20_most_connected_facebook_pages = top_500_facebook_pages.orderBy('degree', ascending = False).limit(20).select('page_name', 'page_type')\n",
    "display(top_20_most_connected_facebook_pages.toPandas())"
   ]
  },
  {
   "cell_type": "code",
   "execution_count": 119,
   "metadata": {},
   "outputs": [
    {
     "data": {
      "text/html": [
       "<div>\n",
       "<style scoped>\n",
       "    .dataframe tbody tr th:only-of-type {\n",
       "        vertical-align: middle;\n",
       "    }\n",
       "\n",
       "    .dataframe tbody tr th {\n",
       "        vertical-align: top;\n",
       "    }\n",
       "\n",
       "    .dataframe thead th {\n",
       "        text-align: right;\n",
       "    }\n",
       "</style>\n",
       "<table border=\"1\" class=\"dataframe\">\n",
       "  <thead>\n",
       "    <tr style=\"text-align: right;\">\n",
       "      <th></th>\n",
       "      <th>page_type</th>\n",
       "      <th>count</th>\n",
       "    </tr>\n",
       "  </thead>\n",
       "  <tbody>\n",
       "    <tr>\n",
       "      <th>0</th>\n",
       "      <td>government</td>\n",
       "      <td>17</td>\n",
       "    </tr>\n",
       "    <tr>\n",
       "      <th>1</th>\n",
       "      <td>politician</td>\n",
       "      <td>3</td>\n",
       "    </tr>\n",
       "  </tbody>\n",
       "</table>\n",
       "</div>"
      ],
      "text/plain": [
       "    page_type  count\n",
       "0  government     17\n",
       "1  politician      3"
      ]
     },
     "metadata": {},
     "output_type": "display_data"
    }
   ],
   "source": [
    "display(top_20_most_connected_facebook_pages.groupBy('page_type').count().orderBy('count', ascending = False).toPandas())"
   ]
  },
  {
   "cell_type": "markdown",
   "metadata": {},
   "source": [
    "The 'government' page type was dominant in the 20 pages with the most connections."
   ]
  },
  {
   "cell_type": "code",
   "execution_count": 121,
   "metadata": {},
   "outputs": [
    {
     "data": {
      "image/png": "[encoded data removed]",
      "text/plain": [
       "<Figure size 1000x600 with 1 Axes>"
      ]
     },
     "metadata": {},
     "output_type": "display_data"
    }
   ],
   "source": [
    "plt.figure(figsize = (10, 6))\n",
    "plt.scatter(pagerank_facebook_with_degrees.toPandas()['pagerank'], pagerank_facebook_with_degrees.toPandas()['degree'], color = 'blue')\n",
    "plt.title('PageRank in Relation to Node Degree')\n",
    "plt.xlabel('PageRank')\n",
    "plt.ylabel('Node degree')\n",
    "plt.show()"
   ]
  },
  {
   "cell_type": "markdown",
   "metadata": {
    "collapsed": false,
    "jupyter": {
     "outputs_hidden": false
    }
   },
   "source": [
    "## Exercise 4\n",
    "Using the Pregel API, implement the following algorithm. In the first step, a selected page publishes a fake news post. In the next step, this post is published by 1/3 of the randomly selected contacts of this page. In subsequent steps, for each page that has already published the post, 1/3 of its randomly selected contacts publish it as well. Show how the number of pages that have published the post changes depending on the number of steps. Optional: Check the above relationship for a factor other than 1/4."
   ]
  },
  {
   "cell_type": "code",
   "execution_count": 9,
   "metadata": {},
   "outputs": [],
   "source": [
    "vertices_df.filter(col('id') == '12756').collect()\n",
    "spark.sparkContext.setCheckpointDir('checkpoints')\n",
    "\n",
    "def reposted(seen_fake_news, p):\n",
    "    return random.random() < 1 - (1 - p) ** seen_fake_news\n",
    "\n",
    "reposted_udf = udf(reposted, 'boolean')\n",
    "\n",
    "def calculate_publisher_number(graph, maxIter, p):\n",
    "    count = 1\n",
    "    \n",
    "    while count <= 1:\n",
    "        result = graph.pregel \\\n",
    "            .setMaxIter(maxIter) \\\n",
    "            .withVertexColumn(\n",
    "                'posted',\n",
    "                when(col('id') == '12756', True).otherwise(False),\n",
    "                coalesce(Pregel.msg() | col('posted'), col('posted'))\n",
    "            ) \\\n",
    "            .sendMsgToSrc(\n",
    "                Pregel.dst('posted')\n",
    "            ) \\\n",
    "            .aggMsgs(\n",
    "                reposted(\n",
    "                    sum(Pregel.msg().cast('int')),\n",
    "                    p\n",
    "                )\n",
    "            ) \\\n",
    "            .run()\n",
    "\n",
    "        count = result.filter(col('posted') == True).count()\n",
    "\n",
    "    return count"
   ]
  },
  {
   "cell_type": "code",
   "execution_count": 10,
   "metadata": {},
   "outputs": [
    {
     "name": "stderr",
     "output_type": "stream",
     "text": [
      "100%|██████████| 14/14 [04:26<00:00, 19.04s/it]\n"
     ]
    }
   ],
   "source": [
    "fake_news_1_3_dict = {max_iter: calculate_publisher_number(facebook_graph, max_iter, 1/3) for max_iter in tqdm(list(range(1, 15)))}\n",
    "fake_news_1_3_df = pd.DataFrame(list(fake_news_1_3_dict.items()), columns = ['max_iterations', 'publishers_count'])"
   ]
  },
  {
   "cell_type": "code",
   "execution_count": 13,
   "metadata": {},
   "outputs": [
    {
     "data": {
      "image/png": "[encoded data removed]",
      "text/plain": [
       "<Figure size 1000x600 with 1 Axes>"
      ]
     },
     "metadata": {},
     "output_type": "display_data"
    }
   ],
   "source": [
    "plt.figure(figsize = (10, 6))\n",
    "plt.scatter(fake_news_1_3_df['max_iterations'], fake_news_1_3_df['publishers_count'], c = 'blue')\n",
    "plt.title('Fake News Publishers Count in Relation to the Number of iterations with Probability 1 to 3')\n",
    "plt.xlabel('Iterations')\n",
    "plt.ylabel('Publishers')\n",
    "plt.show()"
   ]
  },
  {
   "cell_type": "code",
   "execution_count": 10,
   "metadata": {},
   "outputs": [
    {
     "name": "stderr",
     "output_type": "stream",
     "text": [
      "100%|██████████| 14/14 [07:09<00:00, 30.67s/it]\n"
     ]
    }
   ],
   "source": [
    "fake_news_1_5_dict = {max_iter: calculate_publisher_number(facebook_graph, max_iter, 1/5) for max_iter in tqdm(list(range(1, 15)))}\n",
    "fake_news_1_5_df = pd.DataFrame(list(fake_news_1_5_dict.items()), columns = ['max_iterations', 'publishers_count'])"
   ]
  },
  {
   "cell_type": "code",
   "execution_count": 11,
   "metadata": {},
   "outputs": [
    {
     "data": {
      "image/png": "[encoded data removed]",
      "text/plain": [
       "<Figure size 1000x600 with 1 Axes>"
      ]
     },
     "metadata": {},
     "output_type": "display_data"
    }
   ],
   "source": [
    "plt.figure(figsize = (10, 6))\n",
    "plt.scatter(fake_news_1_5_df['max_iterations'], fake_news_1_5_df['publishers_count'], c = 'blue')\n",
    "plt.title('Fake News Publishers Count in Relation to the Number of Iterations with Probability 1 to 5')\n",
    "plt.xlabel('Iterations')\n",
    "plt.ylabel('Publishers')\n",
    "plt.show()"
   ]
  },
  {
   "cell_type": "markdown",
   "metadata": {
    "collapsed": false,
    "jupyter": {
     "outputs_hidden": false
    }
   },
   "source": [
    "## Exercise 5\n",
    "Plot the degree distribution of the vertices in the graph on a logarithmic scale. You can use the function stat.approxQuantile. Is the network scale-free https://barabasi.com/media/pub_imports/files/623.pdf ?"
   ]
  },
  {
   "cell_type": "code",
   "execution_count": 151,
   "metadata": {},
   "outputs": [],
   "source": [
    "degrees = facebook_graph.degrees.select('degree').rdd.map(lambda g: g['degree']).collect()\n",
    "degree_hist = np.histogram(degrees, bins = range(1, np.max(degrees)))\n",
    "log_bins = np.log(degree_hist[1][:-1])\n",
    "log_counts = np.log(degree_hist[0] + 1)"
   ]
  },
  {
   "cell_type": "code",
   "execution_count": 154,
   "metadata": {},
   "outputs": [
    {
     "data": {
      "image/png": "[encoded data removed]",
      "text/plain": [
       "<Figure size 1000x600 with 1 Axes>"
      ]
     },
     "metadata": {},
     "output_type": "display_data"
    }
   ],
   "source": [
    "plt.figure(figsize = (10, 6))\n",
    "plt.scatter(log_bins, log_counts, color='blue')\n",
    "plt.title('Degree Distribution in Log-Log Scale')\n",
    "plt.xlabel('Logarithmic degree')\n",
    "plt.ylabel('Logarithmic count of vertices')\n",
    "plt.show()"
   ]
  },
  {
   "cell_type": "markdown",
   "metadata": {},
   "source": [
    "By comparing the log-log plot with the information available in the linked file, I can confirm that the network is not scale-free. This conclusion is supported by the fact that the plot does not form a straight line. Additionally, there is low-degree saturation and a high-degree cutoff."
   ]
  }
 ],
 "metadata": {
  "kernelspec": {
   "display_name": "Python 3 (ipykernel)",
   "language": "python",
   "name": "python3"
  },
  "language_info": {
   "codemirror_mode": {
    "name": "ipython",
    "version": 3
   },
   "file_extension": ".py",
   "mimetype": "text/x-python",
   "name": "python",
   "nbconvert_exporter": "python",
   "pygments_lexer": "ipython3",
   "version": "3.11.6"
  }
 },
 "nbformat": 4,
 "nbformat_minor": 4
}
